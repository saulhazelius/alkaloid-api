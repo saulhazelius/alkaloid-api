{
 "cells": [
  {
   "cell_type": "code",
   "execution_count": 1,
   "id": "7aa72c31-a038-4f40-960a-c1c485457f8f",
   "metadata": {},
   "outputs": [],
   "source": [
    "import numpy as np\n",
    "import pandas as pd\n",
    "import seaborn as sns\n",
    "from hyperopt import STATUS_OK, Trials, fmin, hp, tpe\n",
    "from imblearn.combine import SMOTEENN\n",
    "from imblearn.under_sampling import RandomUnderSampler\n",
    "from sklearn.metrics import roc_auc_score\n",
    "from sklearn.model_selection import StratifiedKFold, cross_val_score, train_test_split\n",
    "from xgboost import XGBClassifier"
   ]
  },
  {
   "cell_type": "markdown",
   "id": "78ebc1b0-702c-46a6-95cd-dafa7b834f6b",
   "metadata": {},
   "source": [
    "### Read data file \n"
   ]
  },
  {
   "cell_type": "code",
   "execution_count": 2,
   "id": "ec435473-d1ed-431b-a89a-fbcd6748d433",
   "metadata": {},
   "outputs": [],
   "source": [
    "def read_data(file):\n",
    "    \"\"\"Returns a np array from file. Each row is padded with -999.0 in order\n",
    "    to have the same length as the row with the maximun number of NMR\"\"\"\n",
    "\n",
    "    X = []\n",
    "    y = []\n",
    "    for line in file:\n",
    "        spectra = [float(nmr) for nmr in line.split(\", \")[:-1]]\n",
    "        X.append(np.array(spectra))\n",
    "        y.append(np.array(int(line.split(\", \")[-1].strip())))\n",
    "\n",
    "    X = np.array(X, dtype=object)\n",
    "    y = np.array(y)\n",
    "\n",
    "    return (X, y)"
   ]
  },
  {
   "cell_type": "code",
   "execution_count": 3,
   "id": "17bdadf1-a235-43a4-a4a0-7101e84dcbf9",
   "metadata": {},
   "outputs": [],
   "source": [
    "file = open(\"../data/alkaloids.csv\")"
   ]
  },
  {
   "cell_type": "code",
   "execution_count": 4,
   "id": "e2450735-a15f-4ebf-a610-07261b630988",
   "metadata": {},
   "outputs": [],
   "source": [
    "X, y = read_data(file)"
   ]
  },
  {
   "cell_type": "code",
   "execution_count": 5,
   "id": "9c0250eb-3774-40ce-9820-48304ec72356",
   "metadata": {},
   "outputs": [
    {
     "data": {
      "text/plain": [
       "array([[11.2, 17.0, 25.0, ..., -999.0, -999.0, -999.0],\n",
       "       [17.3, 30.9, 48.5, ..., -999.0, -999.0, -999.0],\n",
       "       [14.1, 14.8, 16.0, ..., -999.0, -999.0, -999.0],\n",
       "       ...,\n",
       "       [12.9, 17.9, 18.3, ..., -999.0, -999.0, -999.0],\n",
       "       [7.0, 15.5, 18.9, ..., -999.0, -999.0, -999.0],\n",
       "       [15.4, 17.1, 17.3, ..., -999.0, -999.0, -999.0]], dtype=object)"
      ]
     },
     "execution_count": 5,
     "metadata": {},
     "output_type": "execute_result"
    }
   ],
   "source": [
    "X"
   ]
  },
  {
   "cell_type": "code",
   "execution_count": 6,
   "id": "502dd8f0-6067-46f8-afe5-ac4f78f6e100",
   "metadata": {},
   "outputs": [
    {
     "data": {
      "text/plain": [
       "(17376, 37)"
      ]
     },
     "execution_count": 6,
     "metadata": {},
     "output_type": "execute_result"
    }
   ],
   "source": [
    "X.shape"
   ]
  },
  {
   "cell_type": "markdown",
   "id": "25932d66-4759-4351-83fd-7257b2b3a65b",
   "metadata": {},
   "source": [
    "Thus, the max number of NMR spectra = 37"
   ]
  },
  {
   "cell_type": "markdown",
   "id": "192f82e6-5c29-46e2-8272-7f906535a881",
   "metadata": {},
   "source": [
    "#### Now, we get the alkaloids spectra with 37 spectra:"
   ]
  },
  {
   "cell_type": "code",
   "execution_count": 7,
   "id": "d797609a-60d5-4de8-ac63-08dd49f49f7f",
   "metadata": {},
   "outputs": [],
   "source": [
    "# Get positive indexes\n",
    "pos_idcs = y == 1"
   ]
  },
  {
   "cell_type": "code",
   "execution_count": 8,
   "id": "5a5b71ad-86d4-4f78-9dc1-e270a85e1b90",
   "metadata": {},
   "outputs": [],
   "source": [
    "X_pos = X[pos_idcs]  # Alkaloids NMR"
   ]
  },
  {
   "cell_type": "code",
   "execution_count": 9,
   "id": "8abf2de7-94eb-4a1c-8317-16282c484150",
   "metadata": {},
   "outputs": [
    {
     "data": {
      "text/plain": [
       "137"
      ]
     },
     "execution_count": 9,
     "metadata": {},
     "output_type": "execute_result"
    }
   ],
   "source": [
    "len(X_pos)"
   ]
  },
  {
   "cell_type": "code",
   "execution_count": 10,
   "id": "1ee49798-9d72-48c6-9580-e0724e41bcf4",
   "metadata": {},
   "outputs": [
    {
     "data": {
      "text/plain": [
       "[array([15.6, 18.6, 19.5, 20.5, 25.8, 26.5, 27.3, 27.4, 27.7, 29.4, 30.2,\n",
       "        36.5, 37.0, 37.6, 42.4, 49.9, 52.3, 52.6, 61.8, 64.7, 65.8, 71.4,\n",
       "        71.5, 73.6, 78.0, 108.3, 109.3, 112.3, 116.3, 121.1, 123.4, 129.7,\n",
       "        131.3, 138.9, 141.1, 149.2, 152.0], dtype=object),\n",
       " array([18.6, 19.0, 19.7, 20.3, 21.4, 24.7, 26.9, 28.9, 30.6, 31.1, 35.1,\n",
       "        43.6, 47.0, 50.1, 52.7, 58.8, 61.9, 66.1, 66.3, 72.0, 72.4, 74.7,\n",
       "        76.1, 78.2, 81.0, 107.1, 111.6, 111.9, 120.6, 122.0, 124.6, 125.8,\n",
       "        133.3, 139.7, 143.3, 149.5, 154.4], dtype=object)]"
      ]
     },
     "execution_count": 10,
     "metadata": {},
     "output_type": "execute_result"
    }
   ],
   "source": [
    "[x for x in X_pos if not -999.0 in x]"
   ]
  },
  {
   "cell_type": "markdown",
   "id": "054f641d-3dfe-4ff8-841a-947006698862",
   "metadata": {},
   "source": [
    "In the inference time, if the input has more than 37 spectra it will be predicted as non-alkaloid. "
   ]
  },
  {
   "cell_type": "markdown",
   "id": "86f933a3-d3c6-499f-aa27-1206494f4b20",
   "metadata": {},
   "source": [
    "### Model evaluation strategy:\n",
    "* Validation set = 30%\n",
    "* 70% for resampling and hyperparameter search (CV 5 fold)"
   ]
  },
  {
   "cell_type": "code",
   "execution_count": 11,
   "id": "6ca609e1-2827-42a8-a4ec-146b6dce58da",
   "metadata": {},
   "outputs": [],
   "source": [
    "kf = 5"
   ]
  },
  {
   "cell_type": "code",
   "execution_count": 12,
   "id": "0cd11526-6625-4a37-aa92-2152266d2663",
   "metadata": {},
   "outputs": [],
   "source": [
    "test_size = 0.3"
   ]
  },
  {
   "cell_type": "code",
   "execution_count": 13,
   "id": "894c9121-053c-4e0f-9e70-40a39b68e674",
   "metadata": {},
   "outputs": [],
   "source": [
    "X_train, X_test, y_train, y_test = train_test_split(\n",
    "    X, y, test_size=test_size, random_state=0, stratify=y\n",
    ")"
   ]
  },
  {
   "cell_type": "markdown",
   "id": "cbbb2dd7-dbf2-40c2-88c6-dbf7ae4d3718",
   "metadata": {},
   "source": [
    "### Resampling strategy:\n",
    " 1.- Random under sampling of the majority class\n",
    " \n",
    " 2.- Combination of over and under sampling using SMOTEENN\n",
    "\n",
    "We choose 10% (sampling strategy = 0.1) of positive class as the final imbalance as we do not want to affect too much the original distribution of the classes."
   ]
  },
  {
   "cell_type": "code",
   "execution_count": 14,
   "id": "bf7a3bb8-d3b6-4a39-946d-d8079e2cbbe2",
   "metadata": {},
   "outputs": [],
   "source": [
    "under_sampler = RandomUnderSampler(sampling_strategy=0.1, random_state=0)"
   ]
  },
  {
   "cell_type": "code",
   "execution_count": 15,
   "id": "8510ec17-eb08-4e5d-a6b2-6a9f2d42a860",
   "metadata": {},
   "outputs": [],
   "source": [
    "X_under, y_under = under_sampler.fit_resample(X_train, y_train)"
   ]
  },
  {
   "cell_type": "code",
   "execution_count": 16,
   "id": "95eea2bc-46f1-4dce-87e9-32c21ce792be",
   "metadata": {},
   "outputs": [
    {
     "data": {
      "text/plain": [
       "(1056, 37)"
      ]
     },
     "execution_count": 16,
     "metadata": {},
     "output_type": "execute_result"
    }
   ],
   "source": [
    "X_under.shape"
   ]
  },
  {
   "cell_type": "code",
   "execution_count": 17,
   "id": "2843a1ab-5c62-4aff-8d8f-f4d33ccf7ea6",
   "metadata": {},
   "outputs": [],
   "source": [
    "resampler = SMOTEENN(sampling_strategy=0.1, random_state=0)"
   ]
  },
  {
   "cell_type": "code",
   "execution_count": 18,
   "id": "fbdfcc0e-b4ce-4011-a829-ba835be6e3c7",
   "metadata": {},
   "outputs": [],
   "source": [
    "X_res, y_res = resampler.fit_resample(X_train, y_train)"
   ]
  },
  {
   "cell_type": "code",
   "execution_count": 19,
   "id": "62696181-4295-476e-a24d-4204ee406f67",
   "metadata": {},
   "outputs": [
    {
     "data": {
      "text/plain": [
       "1109"
      ]
     },
     "execution_count": 19,
     "metadata": {},
     "output_type": "execute_result"
    }
   ],
   "source": [
    "# new number of positive samples\n",
    "len(y_res[y_res == 1])"
   ]
  },
  {
   "cell_type": "code",
   "execution_count": 20,
   "id": "db781154-6582-449e-822c-1157dd83db47",
   "metadata": {},
   "outputs": [
    {
     "data": {
      "text/plain": [
       "(12936, 37)"
      ]
     },
     "execution_count": 20,
     "metadata": {},
     "output_type": "execute_result"
    }
   ],
   "source": [
    "X_res.shape"
   ]
  },
  {
   "cell_type": "code",
   "execution_count": 21,
   "id": "68cfd6dc-585d-47b5-b61c-b28cf0d11a70",
   "metadata": {},
   "outputs": [],
   "source": [
    "space = {\n",
    "    \"max_depth\": hp.quniform(\"max_depth\", 3, 18, 1),\n",
    "    \"reg_alpha\": hp.uniform(\"reg_alpha\", 0, 10),\n",
    "    \"reg_lambda\": hp.uniform(\"reg_lambda\", 0, 10),\n",
    "    \"min_child_weight\": hp.quniform(\"min_child_weight\", 0, 5, 1),\n",
    "    \"n_estimators\": hp.quniform(\"n_estimators\", 80, 320, 20),\n",
    "    \"seed\": hp.choice(\"seed\", [22, 44, 66]),\n",
    "    \"eta\": hp.uniform(\"eta\", 0.1, 0.9),\n",
    "}"
   ]
  },
  {
   "cell_type": "code",
   "execution_count": 22,
   "id": "21cd1b59-bea1-4c89-b51b-a8880ef91620",
   "metadata": {},
   "outputs": [],
   "source": [
    "def objective(space, kf=kf, X=X_under, y=y_under):\n",
    "\n",
    "    clf = XGBClassifier(\n",
    "        max_depth=int(space[\"max_depth\"]),\n",
    "        reg_alpha=space[\"reg_alpha\"],\n",
    "        reg_lambda=space[\"reg_lambda\"],\n",
    "        min_child_weight=int(space[\"min_child_weight\"]),\n",
    "        n_estimators=int(space[\"n_estimators\"]),\n",
    "        seed=space[\"seed\"],\n",
    "        eta=space[\"eta\"],\n",
    "    )\n",
    "\n",
    "    cv = StratifiedKFold(random_state=22, n_splits=kf, shuffle=True)\n",
    "    score = cross_val_score(clf, X, y, cv=cv, scoring=\"roc_auc\", n_jobs=-1).mean()\n",
    "    print(f\"SCORE: {score}\")\n",
    "\n",
    "    return {\"loss\": -score, \"status\": STATUS_OK}"
   ]
  },
  {
   "cell_type": "code",
   "execution_count": 23,
   "id": "5aa0ae94-7cf8-4347-a4d0-4dbe7d5b8553",
   "metadata": {
    "tags": []
   },
   "outputs": [
    {
     "name": "stdout",
     "output_type": "stream",
     "text": [
      "SCORE: 0.8612787828947368                             \n",
      "SCORE: 0.8600685307017544                                                        \n",
      "SCORE: 0.9013925438596491                                                        \n",
      "SCORE: 0.874575109649123                                                         \n",
      "SCORE: 0.8682894736842105                                                        \n",
      "SCORE: 0.8678549890350876                                                        \n",
      "SCORE: 0.8820668859649123                                                        \n",
      "SCORE: 0.8612308114035088                                                        \n",
      "SCORE: 0.8795038377192983                                                        \n",
      "SCORE: 0.864797149122807                                                         \n",
      "SCORE: 0.8888089364035088                                                         \n",
      "SCORE: 0.872501370614035                                                          \n",
      "SCORE: 0.8878440241228072                                                         \n",
      "SCORE: 0.8659196820175439                                                         \n",
      "SCORE: 0.9088473135964911                                                         \n",
      "SCORE: 0.9071792763157894                                                         \n",
      "SCORE: 0.8888212719298247                                                         \n",
      "SCORE: 0.8648821271929824                                                         \n",
      "SCORE: 0.9040720942982456                                                         \n",
      "SCORE: 0.8814172149122805                                                         \n",
      "100%|██████████| 20/20 [01:05<00:00,  3.27s/trial, best loss: -0.9088473135964911]\n"
     ]
    }
   ],
   "source": [
    "trials = Trials()\n",
    "\n",
    "best_hyperparams = fmin(\n",
    "    fn=objective, space=space, algo=tpe.suggest, max_evals=20, trials=trials\n",
    ")"
   ]
  },
  {
   "cell_type": "code",
   "execution_count": 24,
   "id": "96044fa2-d7f2-4d5c-aac2-9f1b3914f1eb",
   "metadata": {},
   "outputs": [
    {
     "data": {
      "text/plain": [
       "{'state': 2,\n",
       " 'tid': 14,\n",
       " 'spec': None,\n",
       " 'result': {'loss': -0.9088473135964911, 'status': 'ok'},\n",
       " 'misc': {'tid': 14,\n",
       "  'cmd': ('domain_attachment', 'FMinIter_Domain'),\n",
       "  'workdir': None,\n",
       "  'idxs': {'eta': [14],\n",
       "   'max_depth': [14],\n",
       "   'min_child_weight': [14],\n",
       "   'n_estimators': [14],\n",
       "   'reg_alpha': [14],\n",
       "   'reg_lambda': [14],\n",
       "   'seed': [14]},\n",
       "  'vals': {'eta': [0.34993945793171993],\n",
       "   'max_depth': [9.0],\n",
       "   'min_child_weight': [4.0],\n",
       "   'n_estimators': [140.0],\n",
       "   'reg_alpha': [0.7144615122380271],\n",
       "   'reg_lambda': [2.26985485325398],\n",
       "   'seed': [2]}},\n",
       " 'exp_key': None,\n",
       " 'owner': None,\n",
       " 'version': 0,\n",
       " 'book_time': datetime.datetime(2022, 9, 29, 3, 23, 51, 684000),\n",
       " 'refresh_time': datetime.datetime(2022, 9, 29, 3, 23, 53, 857000)}"
      ]
     },
     "execution_count": 24,
     "metadata": {},
     "output_type": "execute_result"
    }
   ],
   "source": [
    "trials.best_trial"
   ]
  },
  {
   "cell_type": "markdown",
   "id": "219dcd24-273e-4ebb-85e2-5695c2b50800",
   "metadata": {},
   "source": [
    "#### Now, using the resampled set with over and under sampling"
   ]
  },
  {
   "cell_type": "code",
   "execution_count": 25,
   "id": "84bb057d-55d4-4a42-8f77-1f5aae5121c6",
   "metadata": {},
   "outputs": [],
   "source": [
    "def objective(space, kf=kf, X=X_res, y=y_res):\n",
    "\n",
    "    clf = XGBClassifier(\n",
    "        max_depth=int(space[\"max_depth\"]),\n",
    "        reg_alpha=space[\"reg_alpha\"],\n",
    "        reg_lambda=space[\"reg_lambda\"],\n",
    "        min_child_weight=int(space[\"min_child_weight\"]),\n",
    "        n_estimators=int(space[\"n_estimators\"]),\n",
    "        seed=space[\"seed\"],\n",
    "        eta=space[\"eta\"],\n",
    "    )\n",
    "\n",
    "    cv = StratifiedKFold(random_state=22, n_splits=kf, shuffle=True)\n",
    "    score = cross_val_score(clf, X, y, cv=cv, scoring=\"roc_auc\", n_jobs=-1).mean()\n",
    "    print(f\"SCORE: {score}\")\n",
    "\n",
    "    return {\"loss\": -score, \"status\": STATUS_OK}"
   ]
  },
  {
   "cell_type": "code",
   "execution_count": 26,
   "id": "0480b817-dc20-4132-964e-184e882f816a",
   "metadata": {},
   "outputs": [
    {
     "name": "stdout",
     "output_type": "stream",
     "text": [
      "SCORE: 0.9955438213934722                             \n",
      "SCORE: 0.9970728291393021                                                        \n",
      "SCORE: 0.9987200775148711                                                        \n",
      "SCORE: 0.9976912787339455                                                        \n",
      "SCORE: 0.9980461852913063                                                        \n",
      "SCORE: 0.9954185657528731                                                        \n",
      "SCORE: 0.9988911662063462                                                        \n",
      "SCORE: 0.9971198607666443                                                        \n",
      "SCORE: 0.9990222825794589                                                        \n",
      "SCORE: 0.9989338056050592                                                        \n",
      "SCORE: 0.9977864806927694                                                         \n",
      "SCORE: 0.9969122830434642                                                         \n",
      "SCORE: 0.9959227210212729                                                         \n",
      "SCORE: 0.9969117578704025                                                         \n",
      "SCORE: 0.9982619920933328                                                         \n",
      "SCORE: 0.9979027660623757                                                         \n",
      "SCORE: 0.9976517193112763                                                         \n",
      "SCORE: 0.9976597618963188                                                         \n",
      "SCORE: 0.9976710121301304                                                         \n",
      "SCORE: 0.9973977164000963                                                         \n",
      "100%|██████████| 20/20 [04:42<00:00, 14.15s/trial, best loss: -0.9990222825794589]\n"
     ]
    }
   ],
   "source": [
    "trials = Trials()\n",
    "\n",
    "best_hyperparams = fmin(\n",
    "    fn=objective, space=space, algo=tpe.suggest, max_evals=20, trials=trials\n",
    ")"
   ]
  },
  {
   "cell_type": "code",
   "execution_count": 27,
   "id": "2d422f04-1e27-4db2-a189-467a529b222d",
   "metadata": {},
   "outputs": [
    {
     "data": {
      "text/plain": [
       "{'state': 2,\n",
       " 'tid': 8,\n",
       " 'spec': None,\n",
       " 'result': {'loss': -0.9990222825794589, 'status': 'ok'},\n",
       " 'misc': {'tid': 8,\n",
       "  'cmd': ('domain_attachment', 'FMinIter_Domain'),\n",
       "  'workdir': None,\n",
       "  'idxs': {'eta': [8],\n",
       "   'max_depth': [8],\n",
       "   'min_child_weight': [8],\n",
       "   'n_estimators': [8],\n",
       "   'reg_alpha': [8],\n",
       "   'reg_lambda': [8],\n",
       "   'seed': [8]},\n",
       "  'vals': {'eta': [0.5076577956543429],\n",
       "   'max_depth': [16.0],\n",
       "   'min_child_weight': [5.0],\n",
       "   'n_estimators': [100.0],\n",
       "   'reg_alpha': [0.2603384226801031],\n",
       "   'reg_lambda': [4.327340572731117],\n",
       "   'seed': [2]}},\n",
       " 'exp_key': None,\n",
       " 'owner': None,\n",
       " 'version': 0,\n",
       " 'book_time': datetime.datetime(2022, 9, 29, 3, 25, 49, 190000),\n",
       " 'refresh_time': datetime.datetime(2022, 9, 29, 3, 25, 59, 747000)}"
      ]
     },
     "execution_count": 27,
     "metadata": {},
     "output_type": "execute_result"
    }
   ],
   "source": [
    "trials.best_trial"
   ]
  }
 ],
 "metadata": {
  "kernelspec": {
   "display_name": "Python 3",
   "language": "python",
   "name": "python3"
  },
  "language_info": {
   "codemirror_mode": {
    "name": "ipython",
    "version": 3
   },
   "file_extension": ".py",
   "mimetype": "text/x-python",
   "name": "python",
   "nbconvert_exporter": "python",
   "pygments_lexer": "ipython3",
   "version": "3.9.12"
  }
 },
 "nbformat": 4,
 "nbformat_minor": 5
}
