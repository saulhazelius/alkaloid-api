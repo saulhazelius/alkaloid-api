{
 "cells": [
  {
   "cell_type": "code",
   "execution_count": 1,
   "id": "7aa72c31-a038-4f40-960a-c1c485457f8f",
   "metadata": {},
   "outputs": [],
   "source": [
    "import numpy as np\n",
    "import pandas as pd\n",
    "import seaborn as sns\n",
    "from hyperopt import STATUS_OK, Trials, fmin, hp, tpe\n",
    "from imblearn.combine import SMOTEENN\n",
    "from imblearn.under_sampling import RandomUnderSampler\n",
    "from sklearn.metrics import roc_auc_score, recall_score, precision_score, f1_score\n",
    "from sklearn.model_selection import StratifiedKFold, cross_val_score, train_test_split\n",
    "from xgboost import XGBClassifier"
   ]
  },
  {
   "cell_type": "markdown",
   "id": "78ebc1b0-702c-46a6-95cd-dafa7b834f6b",
   "metadata": {},
   "source": [
    "### Read data file \n"
   ]
  },
  {
   "cell_type": "code",
   "execution_count": 2,
   "id": "ec435473-d1ed-431b-a89a-fbcd6748d433",
   "metadata": {},
   "outputs": [],
   "source": [
    "def read_data(file):\n",
    "    \"\"\"Returns a np array from file. Each row is padded with -999.0 in order\n",
    "    to have the same length as the row with the maximun number of NMR\"\"\"\n",
    "\n",
    "    X = []\n",
    "    y = []\n",
    "    for line in file:\n",
    "        spectra = [float(nmr) for nmr in line.split(\", \")[:-1]]\n",
    "        X.append(np.array(spectra))\n",
    "        y.append(np.array(int(line.split(\", \")[-1].strip())))\n",
    "\n",
    "    X = np.array(X, dtype=object)\n",
    "    y = np.array(y)\n",
    "\n",
    "    return (X, y)"
   ]
  },
  {
   "cell_type": "code",
   "execution_count": 3,
   "id": "17bdadf1-a235-43a4-a4a0-7101e84dcbf9",
   "metadata": {},
   "outputs": [],
   "source": [
    "file = open(\"../data/alkaloids.csv\")"
   ]
  },
  {
   "cell_type": "code",
   "execution_count": 4,
   "id": "e2450735-a15f-4ebf-a610-07261b630988",
   "metadata": {},
   "outputs": [],
   "source": [
    "X, y = read_data(file)"
   ]
  },
  {
   "cell_type": "code",
   "execution_count": 5,
   "id": "9c0250eb-3774-40ce-9820-48304ec72356",
   "metadata": {},
   "outputs": [
    {
     "data": {
      "text/plain": [
       "array([[11.2, 17.0, 25.0, ..., -999.0, -999.0, -999.0],\n",
       "       [17.3, 30.9, 48.5, ..., -999.0, -999.0, -999.0],\n",
       "       [14.1, 14.8, 16.0, ..., -999.0, -999.0, -999.0],\n",
       "       ...,\n",
       "       [12.9, 17.9, 18.3, ..., -999.0, -999.0, -999.0],\n",
       "       [7.0, 15.5, 18.9, ..., -999.0, -999.0, -999.0],\n",
       "       [15.4, 17.1, 17.3, ..., -999.0, -999.0, -999.0]], dtype=object)"
      ]
     },
     "execution_count": 5,
     "metadata": {},
     "output_type": "execute_result"
    }
   ],
   "source": [
    "X"
   ]
  },
  {
   "cell_type": "code",
   "execution_count": 6,
   "id": "502dd8f0-6067-46f8-afe5-ac4f78f6e100",
   "metadata": {},
   "outputs": [
    {
     "data": {
      "text/plain": [
       "(17376, 37)"
      ]
     },
     "execution_count": 6,
     "metadata": {},
     "output_type": "execute_result"
    }
   ],
   "source": [
    "X.shape"
   ]
  },
  {
   "cell_type": "markdown",
   "id": "25932d66-4759-4351-83fd-7257b2b3a65b",
   "metadata": {},
   "source": [
    "Thus, the max number of NMR spectra = 37"
   ]
  },
  {
   "cell_type": "markdown",
   "id": "192f82e6-5c29-46e2-8272-7f906535a881",
   "metadata": {},
   "source": [
    "#### Now, we get the alkaloids spectra with 37 spectra:"
   ]
  },
  {
   "cell_type": "code",
   "execution_count": 7,
   "id": "d797609a-60d5-4de8-ac63-08dd49f49f7f",
   "metadata": {},
   "outputs": [],
   "source": [
    "# Get positive indexes\n",
    "pos_idcs = y == 1"
   ]
  },
  {
   "cell_type": "code",
   "execution_count": 8,
   "id": "5a5b71ad-86d4-4f78-9dc1-e270a85e1b90",
   "metadata": {},
   "outputs": [],
   "source": [
    "X_pos = X[pos_idcs]  # Alkaloids NMR"
   ]
  },
  {
   "cell_type": "code",
   "execution_count": 9,
   "id": "8abf2de7-94eb-4a1c-8317-16282c484150",
   "metadata": {},
   "outputs": [
    {
     "data": {
      "text/plain": [
       "137"
      ]
     },
     "execution_count": 9,
     "metadata": {},
     "output_type": "execute_result"
    }
   ],
   "source": [
    "len(X_pos)"
   ]
  },
  {
   "cell_type": "code",
   "execution_count": 10,
   "id": "1ee49798-9d72-48c6-9580-e0724e41bcf4",
   "metadata": {},
   "outputs": [
    {
     "data": {
      "text/plain": [
       "[array([15.6, 18.6, 19.5, 20.5, 25.8, 26.5, 27.3, 27.4, 27.7, 29.4, 30.2,\n",
       "        36.5, 37.0, 37.6, 42.4, 49.9, 52.3, 52.6, 61.8, 64.7, 65.8, 71.4,\n",
       "        71.5, 73.6, 78.0, 108.3, 109.3, 112.3, 116.3, 121.1, 123.4, 129.7,\n",
       "        131.3, 138.9, 141.1, 149.2, 152.0], dtype=object),\n",
       " array([18.6, 19.0, 19.7, 20.3, 21.4, 24.7, 26.9, 28.9, 30.6, 31.1, 35.1,\n",
       "        43.6, 47.0, 50.1, 52.7, 58.8, 61.9, 66.1, 66.3, 72.0, 72.4, 74.7,\n",
       "        76.1, 78.2, 81.0, 107.1, 111.6, 111.9, 120.6, 122.0, 124.6, 125.8,\n",
       "        133.3, 139.7, 143.3, 149.5, 154.4], dtype=object)]"
      ]
     },
     "execution_count": 10,
     "metadata": {},
     "output_type": "execute_result"
    }
   ],
   "source": [
    "[x for x in X_pos if not -999.0 in x]"
   ]
  },
  {
   "cell_type": "markdown",
   "id": "054f641d-3dfe-4ff8-841a-947006698862",
   "metadata": {},
   "source": [
    "In the inference time, if the input has more than 37 spectra it will be predicted as non-alkaloid. "
   ]
  },
  {
   "cell_type": "markdown",
   "id": "86f933a3-d3c6-499f-aa27-1206494f4b20",
   "metadata": {},
   "source": [
    "### Model evaluation strategy:\n",
    "* Validation set = 30%\n",
    "* 70% for resampling and hyperparameter search (CV 5 fold)"
   ]
  },
  {
   "cell_type": "code",
   "execution_count": 11,
   "id": "6ca609e1-2827-42a8-a4ec-146b6dce58da",
   "metadata": {},
   "outputs": [],
   "source": [
    "kf = 5"
   ]
  },
  {
   "cell_type": "code",
   "execution_count": 12,
   "id": "0cd11526-6625-4a37-aa92-2152266d2663",
   "metadata": {},
   "outputs": [],
   "source": [
    "test_size = 0.3"
   ]
  },
  {
   "cell_type": "code",
   "execution_count": 13,
   "id": "894c9121-053c-4e0f-9e70-40a39b68e674",
   "metadata": {},
   "outputs": [],
   "source": [
    "X_train, X_test, y_train, y_test = train_test_split(\n",
    "    X, y, test_size=test_size, random_state=0, stratify=y\n",
    ")"
   ]
  },
  {
   "cell_type": "markdown",
   "id": "cbbb2dd7-dbf2-40c2-88c6-dbf7ae4d3718",
   "metadata": {},
   "source": [
    "### Resampling strategy:\n",
    " 1.- Random under sampling of the majority class\n",
    " \n",
    " 2.- Combination of over and under sampling using SMOTEENN\n",
    "\n",
    "We choose 10% (sampling strategy = 0.1) of positive class as the final imbalance as we do not want to affect too much the original distribution of the classes."
   ]
  },
  {
   "cell_type": "code",
   "execution_count": 14,
   "id": "bf7a3bb8-d3b6-4a39-946d-d8079e2cbbe2",
   "metadata": {},
   "outputs": [],
   "source": [
    "under_sampler = RandomUnderSampler(sampling_strategy=0.1, random_state=0)"
   ]
  },
  {
   "cell_type": "code",
   "execution_count": 15,
   "id": "8510ec17-eb08-4e5d-a6b2-6a9f2d42a860",
   "metadata": {},
   "outputs": [],
   "source": [
    "X_under, y_under = under_sampler.fit_resample(X_train, y_train)"
   ]
  },
  {
   "cell_type": "code",
   "execution_count": 16,
   "id": "95eea2bc-46f1-4dce-87e9-32c21ce792be",
   "metadata": {},
   "outputs": [
    {
     "data": {
      "text/plain": [
       "(1056, 37)"
      ]
     },
     "execution_count": 16,
     "metadata": {},
     "output_type": "execute_result"
    }
   ],
   "source": [
    "X_under.shape"
   ]
  },
  {
   "cell_type": "code",
   "execution_count": 17,
   "id": "2843a1ab-5c62-4aff-8d8f-f4d33ccf7ea6",
   "metadata": {},
   "outputs": [],
   "source": [
    "resampler = SMOTEENN(sampling_strategy=0.1, random_state=0)"
   ]
  },
  {
   "cell_type": "code",
   "execution_count": 18,
   "id": "fbdfcc0e-b4ce-4011-a829-ba835be6e3c7",
   "metadata": {},
   "outputs": [],
   "source": [
    "X_res, y_res = resampler.fit_resample(X_train, y_train)"
   ]
  },
  {
   "cell_type": "code",
   "execution_count": 19,
   "id": "62696181-4295-476e-a24d-4204ee406f67",
   "metadata": {},
   "outputs": [
    {
     "data": {
      "text/plain": [
       "1109"
      ]
     },
     "execution_count": 19,
     "metadata": {},
     "output_type": "execute_result"
    }
   ],
   "source": [
    "# new number of positive samples\n",
    "len(y_res[y_res == 1])"
   ]
  },
  {
   "cell_type": "code",
   "execution_count": 20,
   "id": "db781154-6582-449e-822c-1157dd83db47",
   "metadata": {},
   "outputs": [
    {
     "data": {
      "text/plain": [
       "(12936, 37)"
      ]
     },
     "execution_count": 20,
     "metadata": {},
     "output_type": "execute_result"
    }
   ],
   "source": [
    "X_res.shape"
   ]
  },
  {
   "cell_type": "code",
   "execution_count": 21,
   "id": "68cfd6dc-585d-47b5-b61c-b28cf0d11a70",
   "metadata": {},
   "outputs": [],
   "source": [
    "space = {\n",
    "    \"max_depth\": hp.quniform(\"max_depth\", 3, 18, 1),\n",
    "    \"reg_alpha\": hp.uniform(\"reg_alpha\", 0, 10),\n",
    "    \"reg_lambda\": hp.uniform(\"reg_lambda\", 0, 10),\n",
    "    \"min_child_weight\": hp.quniform(\"min_child_weight\", 0, 5, 1),\n",
    "    \"n_estimators\": hp.quniform(\"n_estimators\", 80, 320, 20),\n",
    "    \"seed\": hp.choice(\"seed\", [22, 44, 66]),\n",
    "    \"eta\": hp.uniform(\"eta\", 0.1, 0.9),\n",
    "}"
   ]
  },
  {
   "cell_type": "code",
   "execution_count": 22,
   "id": "21cd1b59-bea1-4c89-b51b-a8880ef91620",
   "metadata": {},
   "outputs": [],
   "source": [
    "def objective(space, kf=kf, X=X_under, y=y_under):\n",
    "\n",
    "    clf = XGBClassifier(\n",
    "        max_depth=int(space[\"max_depth\"]),\n",
    "        reg_alpha=space[\"reg_alpha\"],\n",
    "        reg_lambda=space[\"reg_lambda\"],\n",
    "        min_child_weight=int(space[\"min_child_weight\"]),\n",
    "        n_estimators=int(space[\"n_estimators\"]),\n",
    "        seed=space[\"seed\"],\n",
    "        eta=space[\"eta\"],\n",
    "    )\n",
    "\n",
    "    cv = StratifiedKFold(random_state=22, n_splits=kf, shuffle=True)\n",
    "    score = cross_val_score(clf, X, y, cv=cv, scoring=\"recall\", n_jobs=-1).mean()\n",
    "    print(f\"SCORE: {score}\")\n",
    "\n",
    "    return {\"loss\": -score, \"status\": STATUS_OK}"
   ]
  },
  {
   "cell_type": "code",
   "execution_count": 23,
   "id": "5aa0ae94-7cf8-4347-a4d0-4dbe7d5b8553",
   "metadata": {
    "tags": []
   },
   "outputs": [
    {
     "name": "stdout",
     "output_type": "stream",
     "text": [
      "SCORE: 0.4068421052631579                             \n",
      "SCORE: 0.2831578947368421                                                        \n",
      "SCORE: 0.2094736842105263                                                        \n",
      "SCORE: 0.29315789473684206                                                       \n",
      "SCORE: 0.3857894736842105                                                        \n",
      "SCORE: 0.3757894736842105                                                        \n",
      "SCORE: 0.16736842105263156                                                       \n",
      "SCORE: 0.3031578947368421                                                        \n",
      "SCORE: 0.36473684210526314                                                       \n",
      "SCORE: 0.16684210526315787                                                       \n",
      "SCORE: 0.18842105263157893                                                        \n",
      "SCORE: 0.26105263157894737                                                        \n",
      "SCORE: 0.3136842105263158                                                         \n",
      "SCORE: 0.3126315789473684                                                         \n",
      "SCORE: 0.34578947368421054                                                        \n",
      "SCORE: 0.3863157894736842                                                         \n",
      "SCORE: 0.19842105263157891                                                        \n",
      "SCORE: 0.32421052631578945                                                        \n",
      "SCORE: 0.19842105263157891                                                        \n",
      "SCORE: 0.3652631578947368                                                         \n",
      "100%|██████████| 20/20 [00:54<00:00,  2.73s/trial, best loss: -0.4068421052631579]\n"
     ]
    }
   ],
   "source": [
    "trials_under = Trials()\n",
    "\n",
    "best_hyperparams_under = fmin(\n",
    "    fn=objective,\n",
    "    space=space,\n",
    "    algo=tpe.suggest,\n",
    "    max_evals=20,\n",
    "    trials=trials_under,\n",
    "    rstate=np.random.default_rng(789)\n",
    ")"
   ]
  },
  {
   "cell_type": "code",
   "execution_count": 24,
   "id": "96044fa2-d7f2-4d5c-aac2-9f1b3914f1eb",
   "metadata": {},
   "outputs": [
    {
     "data": {
      "text/plain": [
       "{'state': 2,\n",
       " 'tid': 0,\n",
       " 'spec': None,\n",
       " 'result': {'loss': -0.4068421052631579, 'status': 'ok'},\n",
       " 'misc': {'tid': 0,\n",
       "  'cmd': ('domain_attachment', 'FMinIter_Domain'),\n",
       "  'workdir': None,\n",
       "  'idxs': {'eta': [0],\n",
       "   'max_depth': [0],\n",
       "   'min_child_weight': [0],\n",
       "   'n_estimators': [0],\n",
       "   'reg_alpha': [0],\n",
       "   'reg_lambda': [0],\n",
       "   'seed': [0]},\n",
       "  'vals': {'eta': [0.43911010940117146],\n",
       "   'max_depth': [15.0],\n",
       "   'min_child_weight': [2.0],\n",
       "   'n_estimators': [120.0],\n",
       "   'reg_alpha': [0.0747528345435633],\n",
       "   'reg_lambda': [5.147611893010373],\n",
       "   'seed': [0]}},\n",
       " 'exp_key': None,\n",
       " 'owner': None,\n",
       " 'version': 0,\n",
       " 'book_time': datetime.datetime(2022, 9, 29, 4, 20, 40, 55000),\n",
       " 'refresh_time': datetime.datetime(2022, 9, 29, 4, 20, 44, 689000)}"
      ]
     },
     "execution_count": 24,
     "metadata": {},
     "output_type": "execute_result"
    }
   ],
   "source": [
    "trials_under.best_trial"
   ]
  },
  {
   "cell_type": "markdown",
   "id": "219dcd24-273e-4ebb-85e2-5695c2b50800",
   "metadata": {},
   "source": [
    "#### Now, using the resampled set with over and under sampling"
   ]
  },
  {
   "cell_type": "code",
   "execution_count": 25,
   "id": "84bb057d-55d4-4a42-8f77-1f5aae5121c6",
   "metadata": {},
   "outputs": [],
   "source": [
    "def objective(space, kf=kf, X=X_res, y=y_res):\n",
    "\n",
    "    clf = XGBClassifier(\n",
    "        max_depth=int(space[\"max_depth\"]),\n",
    "        reg_alpha=space[\"reg_alpha\"],\n",
    "        reg_lambda=space[\"reg_lambda\"],\n",
    "        min_child_weight=int(space[\"min_child_weight\"]),\n",
    "        n_estimators=int(space[\"n_estimators\"]),\n",
    "        seed=space[\"seed\"],\n",
    "        eta=space[\"eta\"],\n",
    "    )\n",
    "\n",
    "    cv = StratifiedKFold(random_state=22, n_splits=kf, shuffle=True)\n",
    "    score = cross_val_score(clf, X, y, cv=cv, scoring=\"recall\", n_jobs=-1).mean()\n",
    "    print(f\"SCORE: {score}\")\n",
    "\n",
    "    return {\"loss\": -score, \"status\": STATUS_OK}"
   ]
  },
  {
   "cell_type": "code",
   "execution_count": 26,
   "id": "0480b817-dc20-4132-964e-184e882f816a",
   "metadata": {},
   "outputs": [
    {
     "name": "stdout",
     "output_type": "stream",
     "text": [
      "SCORE: 0.9612123435652847                             \n",
      "SCORE: 0.9098406098406098                                                        \n",
      "SCORE: 0.9025967143614203                                                        \n",
      "SCORE: 0.938665362194774                                                         \n",
      "SCORE: 0.954001059883413                                                         \n",
      "SCORE: 0.9314540785129021                                                        \n",
      "SCORE: 0.8917614447026212                                                        \n",
      "SCORE: 0.9269414210590681                                                        \n",
      "SCORE: 0.9513105866047044                                                        \n",
      "SCORE: 0.8908605438017203                                                        \n",
      "SCORE: 0.893591781827076                                                          \n",
      "SCORE: 0.907113448289919                                                          \n",
      "SCORE: 0.9341649341649342                                                         \n",
      "SCORE: 0.9449879743997391                                                         \n",
      "SCORE: 0.9269454975337329                                                         \n",
      "SCORE: 0.9594064652888182                                                         \n",
      "SCORE: 0.8836614895438425                                                         \n",
      "SCORE: 0.9233418939301293                                                         \n",
      "SCORE: 0.8917981329746036                                                         \n",
      "SCORE: 0.9233418939301293                                                         \n",
      "100%|██████████| 20/20 [04:33<00:00, 13.69s/trial, best loss: -0.9612123435652847]\n"
     ]
    }
   ],
   "source": [
    "trials_res = Trials()\n",
    "\n",
    "best_hyperparams_res = fmin(\n",
    "    fn=objective,\n",
    "    space=space,\n",
    "    algo=tpe.suggest,\n",
    "    max_evals=20,\n",
    "    trials=trials_res,\n",
    "    rstate=np.random.default_rng(789)\n",
    ")"
   ]
  },
  {
   "cell_type": "code",
   "execution_count": 27,
   "id": "2d422f04-1e27-4db2-a189-467a529b222d",
   "metadata": {},
   "outputs": [
    {
     "data": {
      "text/plain": [
       "{'state': 2,\n",
       " 'tid': 0,\n",
       " 'spec': None,\n",
       " 'result': {'loss': -0.9612123435652847, 'status': 'ok'},\n",
       " 'misc': {'tid': 0,\n",
       "  'cmd': ('domain_attachment', 'FMinIter_Domain'),\n",
       "  'workdir': None,\n",
       "  'idxs': {'eta': [0],\n",
       "   'max_depth': [0],\n",
       "   'min_child_weight': [0],\n",
       "   'n_estimators': [0],\n",
       "   'reg_alpha': [0],\n",
       "   'reg_lambda': [0],\n",
       "   'seed': [0]},\n",
       "  'vals': {'eta': [0.43911010940117146],\n",
       "   'max_depth': [15.0],\n",
       "   'min_child_weight': [2.0],\n",
       "   'n_estimators': [120.0],\n",
       "   'reg_alpha': [0.0747528345435633],\n",
       "   'reg_lambda': [5.147611893010373],\n",
       "   'seed': [0]}},\n",
       " 'exp_key': None,\n",
       " 'owner': None,\n",
       " 'version': 0,\n",
       " 'book_time': datetime.datetime(2022, 9, 29, 4, 21, 34, 941000),\n",
       " 'refresh_time': datetime.datetime(2022, 9, 29, 4, 21, 48, 611000)}"
      ]
     },
     "execution_count": 27,
     "metadata": {},
     "output_type": "execute_result"
    }
   ],
   "source": [
    "trials_res.best_trial"
   ]
  },
  {
   "cell_type": "markdown",
   "id": "a03388af-e63f-406d-8af5-e677de756d4a",
   "metadata": {},
   "source": [
    "#### The 2 datasets and the 2 hyperparameters search results will be employed for training 2 new XGBoost models (`XGB_under` and `XGB_res`). Then, these models will be tested on the hold-out test set."
   ]
  },
  {
   "cell_type": "markdown",
   "id": "89896f74-7f83-45bd-bafc-b51cd27e1187",
   "metadata": {},
   "source": [
    "`XGB_under`: model trained with the undersampled dataset `X_under`\n",
    "\n",
    "`XGB_res`: model trained with the resampled dataset `X_res`\n"
   ]
  },
  {
   "cell_type": "code",
   "execution_count": 28,
   "id": "480edc76-88c0-4411-ba56-d9857d5bd175",
   "metadata": {},
   "outputs": [],
   "source": [
    "#hyperparams undersampled dataset\n",
    "params_under = trials_under.best_trial['misc']['vals']"
   ]
  },
  {
   "cell_type": "code",
   "execution_count": 29,
   "id": "c832b727-0dfb-49de-94d6-6d4e41cd2615",
   "metadata": {},
   "outputs": [
    {
     "data": {
      "text/plain": [
       "{'eta': [0.43911010940117146],\n",
       " 'max_depth': [15.0],\n",
       " 'min_child_weight': [2.0],\n",
       " 'n_estimators': [120.0],\n",
       " 'reg_alpha': [0.0747528345435633],\n",
       " 'reg_lambda': [5.147611893010373],\n",
       " 'seed': [0]}"
      ]
     },
     "execution_count": 29,
     "metadata": {},
     "output_type": "execute_result"
    }
   ],
   "source": [
    "params_under"
   ]
  },
  {
   "cell_type": "code",
   "execution_count": 30,
   "id": "8a0aaf1c-d0cf-4a1e-b235-beec18f8fe81",
   "metadata": {},
   "outputs": [],
   "source": [
    "#Get the int and floats from the lists\n",
    "for key, val in params_under.items():\n",
    "    params_under[key] = val[0]"
   ]
  },
  {
   "cell_type": "code",
   "execution_count": 31,
   "id": "a14fa164-9db3-4ba2-9282-3d0f1fe3a4af",
   "metadata": {},
   "outputs": [
    {
     "data": {
      "text/plain": [
       "{'eta': 0.43911010940117146,\n",
       " 'max_depth': 15.0,\n",
       " 'min_child_weight': 2.0,\n",
       " 'n_estimators': 120.0,\n",
       " 'reg_alpha': 0.0747528345435633,\n",
       " 'reg_lambda': 5.147611893010373,\n",
       " 'seed': 0}"
      ]
     },
     "execution_count": 31,
     "metadata": {},
     "output_type": "execute_result"
    }
   ],
   "source": [
    "params_under"
   ]
  },
  {
   "cell_type": "code",
   "execution_count": 32,
   "id": "b48b7aef-a98c-4980-852b-fcbf89b86ff1",
   "metadata": {},
   "outputs": [],
   "source": [
    "# Change floats to int\n",
    "params_under['max_depth'] = int(params_under['max_depth'])\n",
    "params_under['min_child_weight'] = int(params_under['min_child_weight'])\n",
    "params_under['n_estimators'] = int(params_under['n_estimators'])"
   ]
  },
  {
   "cell_type": "code",
   "execution_count": 33,
   "id": "38486cd2-bc95-45fa-9208-b023f4fbf8a9",
   "metadata": {},
   "outputs": [
    {
     "data": {
      "text/plain": [
       "{'eta': 0.43911010940117146,\n",
       " 'max_depth': 15,\n",
       " 'min_child_weight': 2,\n",
       " 'n_estimators': 120,\n",
       " 'reg_alpha': 0.0747528345435633,\n",
       " 'reg_lambda': 5.147611893010373,\n",
       " 'seed': 0}"
      ]
     },
     "execution_count": 33,
     "metadata": {},
     "output_type": "execute_result"
    }
   ],
   "source": [
    "params_under"
   ]
  },
  {
   "cell_type": "code",
   "execution_count": 34,
   "id": "17644ab1-fe22-4274-99b9-eb24f5d16d2d",
   "metadata": {},
   "outputs": [],
   "source": [
    "XGB_under = XGBClassifier(**params_under)"
   ]
  },
  {
   "cell_type": "code",
   "execution_count": 35,
   "id": "08cbb011-fdb6-4661-85a2-a7c18cc7f453",
   "metadata": {},
   "outputs": [
    {
     "data": {
      "text/html": [
       "<style>#sk-container-id-1 {color: black;background-color: white;}#sk-container-id-1 pre{padding: 0;}#sk-container-id-1 div.sk-toggleable {background-color: white;}#sk-container-id-1 label.sk-toggleable__label {cursor: pointer;display: block;width: 100%;margin-bottom: 0;padding: 0.3em;box-sizing: border-box;text-align: center;}#sk-container-id-1 label.sk-toggleable__label-arrow:before {content: \"▸\";float: left;margin-right: 0.25em;color: #696969;}#sk-container-id-1 label.sk-toggleable__label-arrow:hover:before {color: black;}#sk-container-id-1 div.sk-estimator:hover label.sk-toggleable__label-arrow:before {color: black;}#sk-container-id-1 div.sk-toggleable__content {max-height: 0;max-width: 0;overflow: hidden;text-align: left;background-color: #f0f8ff;}#sk-container-id-1 div.sk-toggleable__content pre {margin: 0.2em;color: black;border-radius: 0.25em;background-color: #f0f8ff;}#sk-container-id-1 input.sk-toggleable__control:checked~div.sk-toggleable__content {max-height: 200px;max-width: 100%;overflow: auto;}#sk-container-id-1 input.sk-toggleable__control:checked~label.sk-toggleable__label-arrow:before {content: \"▾\";}#sk-container-id-1 div.sk-estimator input.sk-toggleable__control:checked~label.sk-toggleable__label {background-color: #d4ebff;}#sk-container-id-1 div.sk-label input.sk-toggleable__control:checked~label.sk-toggleable__label {background-color: #d4ebff;}#sk-container-id-1 input.sk-hidden--visually {border: 0;clip: rect(1px 1px 1px 1px);clip: rect(1px, 1px, 1px, 1px);height: 1px;margin: -1px;overflow: hidden;padding: 0;position: absolute;width: 1px;}#sk-container-id-1 div.sk-estimator {font-family: monospace;background-color: #f0f8ff;border: 1px dotted black;border-radius: 0.25em;box-sizing: border-box;margin-bottom: 0.5em;}#sk-container-id-1 div.sk-estimator:hover {background-color: #d4ebff;}#sk-container-id-1 div.sk-parallel-item::after {content: \"\";width: 100%;border-bottom: 1px solid gray;flex-grow: 1;}#sk-container-id-1 div.sk-label:hover label.sk-toggleable__label {background-color: #d4ebff;}#sk-container-id-1 div.sk-serial::before {content: \"\";position: absolute;border-left: 1px solid gray;box-sizing: border-box;top: 0;bottom: 0;left: 50%;z-index: 0;}#sk-container-id-1 div.sk-serial {display: flex;flex-direction: column;align-items: center;background-color: white;padding-right: 0.2em;padding-left: 0.2em;position: relative;}#sk-container-id-1 div.sk-item {position: relative;z-index: 1;}#sk-container-id-1 div.sk-parallel {display: flex;align-items: stretch;justify-content: center;background-color: white;position: relative;}#sk-container-id-1 div.sk-item::before, #sk-container-id-1 div.sk-parallel-item::before {content: \"\";position: absolute;border-left: 1px solid gray;box-sizing: border-box;top: 0;bottom: 0;left: 50%;z-index: -1;}#sk-container-id-1 div.sk-parallel-item {display: flex;flex-direction: column;z-index: 1;position: relative;background-color: white;}#sk-container-id-1 div.sk-parallel-item:first-child::after {align-self: flex-end;width: 50%;}#sk-container-id-1 div.sk-parallel-item:last-child::after {align-self: flex-start;width: 50%;}#sk-container-id-1 div.sk-parallel-item:only-child::after {width: 0;}#sk-container-id-1 div.sk-dashed-wrapped {border: 1px dashed gray;margin: 0 0.4em 0.5em 0.4em;box-sizing: border-box;padding-bottom: 0.4em;background-color: white;}#sk-container-id-1 div.sk-label label {font-family: monospace;font-weight: bold;display: inline-block;line-height: 1.2em;}#sk-container-id-1 div.sk-label-container {text-align: center;}#sk-container-id-1 div.sk-container {/* jupyter's `normalize.less` sets `[hidden] { display: none; }` but bootstrap.min.css set `[hidden] { display: none !important; }` so we also need the `!important` here to be able to override the default hidden behavior on the sphinx rendered scikit-learn.org. See: https://github.com/scikit-learn/scikit-learn/issues/21755 */display: inline-block !important;position: relative;}#sk-container-id-1 div.sk-text-repr-fallback {display: none;}</style><div id=\"sk-container-id-1\" class=\"sk-top-container\"><div class=\"sk-text-repr-fallback\"><pre>XGBClassifier(base_score=0.5, booster=&#x27;gbtree&#x27;, callbacks=None,\n",
       "              colsample_bylevel=1, colsample_bynode=1, colsample_bytree=1,\n",
       "              early_stopping_rounds=None, enable_categorical=False,\n",
       "              eta=0.43911010940117146, eval_metric=None, gamma=0, gpu_id=-1,\n",
       "              grow_policy=&#x27;depthwise&#x27;, importance_type=None,\n",
       "              interaction_constraints=&#x27;&#x27;, learning_rate=0.4391101, max_bin=256,\n",
       "              max_cat_to_onehot=4, max_delta_step=0, max_depth=15, max_leaves=0,\n",
       "              min_child_weight=2, missing=nan, monotone_constraints=&#x27;()&#x27;,\n",
       "              n_estimators=120, n_jobs=0, num_parallel_tree=1, predictor=&#x27;auto&#x27;,\n",
       "              random_state=0, reg_alpha=0.0747528345435633, ...)</pre><b>In a Jupyter environment, please rerun this cell to show the HTML representation or trust the notebook. <br />On GitHub, the HTML representation is unable to render, please try loading this page with nbviewer.org.</b></div><div class=\"sk-container\" hidden><div class=\"sk-item\"><div class=\"sk-estimator sk-toggleable\"><input class=\"sk-toggleable__control sk-hidden--visually\" id=\"sk-estimator-id-1\" type=\"checkbox\" checked><label for=\"sk-estimator-id-1\" class=\"sk-toggleable__label sk-toggleable__label-arrow\">XGBClassifier</label><div class=\"sk-toggleable__content\"><pre>XGBClassifier(base_score=0.5, booster=&#x27;gbtree&#x27;, callbacks=None,\n",
       "              colsample_bylevel=1, colsample_bynode=1, colsample_bytree=1,\n",
       "              early_stopping_rounds=None, enable_categorical=False,\n",
       "              eta=0.43911010940117146, eval_metric=None, gamma=0, gpu_id=-1,\n",
       "              grow_policy=&#x27;depthwise&#x27;, importance_type=None,\n",
       "              interaction_constraints=&#x27;&#x27;, learning_rate=0.4391101, max_bin=256,\n",
       "              max_cat_to_onehot=4, max_delta_step=0, max_depth=15, max_leaves=0,\n",
       "              min_child_weight=2, missing=nan, monotone_constraints=&#x27;()&#x27;,\n",
       "              n_estimators=120, n_jobs=0, num_parallel_tree=1, predictor=&#x27;auto&#x27;,\n",
       "              random_state=0, reg_alpha=0.0747528345435633, ...)</pre></div></div></div></div></div>"
      ],
      "text/plain": [
       "XGBClassifier(base_score=0.5, booster='gbtree', callbacks=None,\n",
       "              colsample_bylevel=1, colsample_bynode=1, colsample_bytree=1,\n",
       "              early_stopping_rounds=None, enable_categorical=False,\n",
       "              eta=0.43911010940117146, eval_metric=None, gamma=0, gpu_id=-1,\n",
       "              grow_policy='depthwise', importance_type=None,\n",
       "              interaction_constraints='', learning_rate=0.4391101, max_bin=256,\n",
       "              max_cat_to_onehot=4, max_delta_step=0, max_depth=15, max_leaves=0,\n",
       "              min_child_weight=2, missing=nan, monotone_constraints='()',\n",
       "              n_estimators=120, n_jobs=0, num_parallel_tree=1, predictor='auto',\n",
       "              random_state=0, reg_alpha=0.0747528345435633, ...)"
      ]
     },
     "execution_count": 35,
     "metadata": {},
     "output_type": "execute_result"
    }
   ],
   "source": [
    "XGB_under.fit(X_under, y_under)"
   ]
  },
  {
   "cell_type": "code",
   "execution_count": 36,
   "id": "7bc75e70-89b5-4dcb-aec8-e6dda9a584ae",
   "metadata": {},
   "outputs": [],
   "source": [
    "y_under_pred = XGB_under.predict(X_test)"
   ]
  },
  {
   "cell_type": "code",
   "execution_count": 37,
   "id": "55d18599-051c-4453-96ca-1904f748d0d6",
   "metadata": {},
   "outputs": [
    {
     "data": {
      "text/plain": [
       "0.12359550561797752"
      ]
     },
     "execution_count": 37,
     "metadata": {},
     "output_type": "execute_result"
    }
   ],
   "source": [
    "recall_score(y_under_pred, y_test)"
   ]
  },
  {
   "cell_type": "code",
   "execution_count": 38,
   "id": "4c3b454a-9d4f-4070-80f3-54b3eed624c4",
   "metadata": {},
   "outputs": [
    {
     "data": {
      "text/plain": [
       "0.2682926829268293"
      ]
     },
     "execution_count": 38,
     "metadata": {},
     "output_type": "execute_result"
    }
   ],
   "source": [
    "precision_score(y_under_pred, y_test)"
   ]
  },
  {
   "cell_type": "code",
   "execution_count": 39,
   "id": "51aa2ece-603c-415e-8c24-8d09b3d81f8b",
   "metadata": {},
   "outputs": [
    {
     "data": {
      "text/plain": [
       "0.16923076923076924"
      ]
     },
     "execution_count": 39,
     "metadata": {},
     "output_type": "execute_result"
    }
   ],
   "source": [
    "f1_score(y_under_pred, y_test)"
   ]
  },
  {
   "cell_type": "code",
   "execution_count": 40,
   "id": "23cd5f44-e9e8-4c92-add0-f680bc4daded",
   "metadata": {},
   "outputs": [
    {
     "data": {
      "text/plain": [
       "0.5588703523406048"
      ]
     },
     "execution_count": 40,
     "metadata": {},
     "output_type": "execute_result"
    }
   ],
   "source": [
    "roc_auc_score(y_under_pred, y_test)"
   ]
  },
  {
   "cell_type": "code",
   "execution_count": 41,
   "id": "62b53df0-a679-4f3f-9249-4065ed27cb7a",
   "metadata": {},
   "outputs": [],
   "source": [
    "#hyperparams resampled dataset\n",
    "params_res = trials_res.best_trial['misc']['vals']"
   ]
  },
  {
   "cell_type": "code",
   "execution_count": 42,
   "id": "ef727697-90a3-4c39-89ce-5d47a51491f7",
   "metadata": {},
   "outputs": [
    {
     "data": {
      "text/plain": [
       "{'eta': [0.43911010940117146],\n",
       " 'max_depth': [15.0],\n",
       " 'min_child_weight': [2.0],\n",
       " 'n_estimators': [120.0],\n",
       " 'reg_alpha': [0.0747528345435633],\n",
       " 'reg_lambda': [5.147611893010373],\n",
       " 'seed': [0]}"
      ]
     },
     "execution_count": 42,
     "metadata": {},
     "output_type": "execute_result"
    }
   ],
   "source": [
    "params_res"
   ]
  },
  {
   "cell_type": "code",
   "execution_count": 43,
   "id": "771c6ded-b763-4ed2-a15a-25febb871ffe",
   "metadata": {},
   "outputs": [],
   "source": [
    "#Get the int and floats from the lists\n",
    "for key, val in params_res.items():\n",
    "    params_res[key] = val[0]"
   ]
  },
  {
   "cell_type": "code",
   "execution_count": 44,
   "id": "ffc75570-ad53-4941-b79c-a9839e02ea0f",
   "metadata": {},
   "outputs": [
    {
     "data": {
      "text/plain": [
       "{'eta': 0.43911010940117146,\n",
       " 'max_depth': 15.0,\n",
       " 'min_child_weight': 2.0,\n",
       " 'n_estimators': 120.0,\n",
       " 'reg_alpha': 0.0747528345435633,\n",
       " 'reg_lambda': 5.147611893010373,\n",
       " 'seed': 0}"
      ]
     },
     "execution_count": 44,
     "metadata": {},
     "output_type": "execute_result"
    }
   ],
   "source": [
    "params_res"
   ]
  },
  {
   "cell_type": "code",
   "execution_count": 45,
   "id": "78cc2187-636a-4c48-8505-e60fc35f4bef",
   "metadata": {},
   "outputs": [],
   "source": [
    "# Change floats to int\n",
    "params_res['max_depth'] = int(params_res['max_depth'])\n",
    "params_res['min_child_weight'] = int(params_res['min_child_weight'])\n",
    "params_res['n_estimators'] = int(params_res['n_estimators'])"
   ]
  },
  {
   "cell_type": "code",
   "execution_count": 46,
   "id": "1a49a848-965d-4bae-a926-e3882db0c5ae",
   "metadata": {},
   "outputs": [
    {
     "data": {
      "text/plain": [
       "{'eta': 0.43911010940117146,\n",
       " 'max_depth': 15,\n",
       " 'min_child_weight': 2,\n",
       " 'n_estimators': 120,\n",
       " 'reg_alpha': 0.0747528345435633,\n",
       " 'reg_lambda': 5.147611893010373,\n",
       " 'seed': 0}"
      ]
     },
     "execution_count": 46,
     "metadata": {},
     "output_type": "execute_result"
    }
   ],
   "source": [
    "params_res"
   ]
  },
  {
   "cell_type": "code",
   "execution_count": 47,
   "id": "4f227655-2873-4c41-a5bf-bf6104b55eae",
   "metadata": {},
   "outputs": [],
   "source": [
    "XGB_res = XGBClassifier(**params_res)"
   ]
  },
  {
   "cell_type": "code",
   "execution_count": 48,
   "id": "b42eee73-0424-4b01-af25-f444a40e6a96",
   "metadata": {},
   "outputs": [
    {
     "data": {
      "text/html": [
       "<style>#sk-container-id-2 {color: black;background-color: white;}#sk-container-id-2 pre{padding: 0;}#sk-container-id-2 div.sk-toggleable {background-color: white;}#sk-container-id-2 label.sk-toggleable__label {cursor: pointer;display: block;width: 100%;margin-bottom: 0;padding: 0.3em;box-sizing: border-box;text-align: center;}#sk-container-id-2 label.sk-toggleable__label-arrow:before {content: \"▸\";float: left;margin-right: 0.25em;color: #696969;}#sk-container-id-2 label.sk-toggleable__label-arrow:hover:before {color: black;}#sk-container-id-2 div.sk-estimator:hover label.sk-toggleable__label-arrow:before {color: black;}#sk-container-id-2 div.sk-toggleable__content {max-height: 0;max-width: 0;overflow: hidden;text-align: left;background-color: #f0f8ff;}#sk-container-id-2 div.sk-toggleable__content pre {margin: 0.2em;color: black;border-radius: 0.25em;background-color: #f0f8ff;}#sk-container-id-2 input.sk-toggleable__control:checked~div.sk-toggleable__content {max-height: 200px;max-width: 100%;overflow: auto;}#sk-container-id-2 input.sk-toggleable__control:checked~label.sk-toggleable__label-arrow:before {content: \"▾\";}#sk-container-id-2 div.sk-estimator input.sk-toggleable__control:checked~label.sk-toggleable__label {background-color: #d4ebff;}#sk-container-id-2 div.sk-label input.sk-toggleable__control:checked~label.sk-toggleable__label {background-color: #d4ebff;}#sk-container-id-2 input.sk-hidden--visually {border: 0;clip: rect(1px 1px 1px 1px);clip: rect(1px, 1px, 1px, 1px);height: 1px;margin: -1px;overflow: hidden;padding: 0;position: absolute;width: 1px;}#sk-container-id-2 div.sk-estimator {font-family: monospace;background-color: #f0f8ff;border: 1px dotted black;border-radius: 0.25em;box-sizing: border-box;margin-bottom: 0.5em;}#sk-container-id-2 div.sk-estimator:hover {background-color: #d4ebff;}#sk-container-id-2 div.sk-parallel-item::after {content: \"\";width: 100%;border-bottom: 1px solid gray;flex-grow: 1;}#sk-container-id-2 div.sk-label:hover label.sk-toggleable__label {background-color: #d4ebff;}#sk-container-id-2 div.sk-serial::before {content: \"\";position: absolute;border-left: 1px solid gray;box-sizing: border-box;top: 0;bottom: 0;left: 50%;z-index: 0;}#sk-container-id-2 div.sk-serial {display: flex;flex-direction: column;align-items: center;background-color: white;padding-right: 0.2em;padding-left: 0.2em;position: relative;}#sk-container-id-2 div.sk-item {position: relative;z-index: 1;}#sk-container-id-2 div.sk-parallel {display: flex;align-items: stretch;justify-content: center;background-color: white;position: relative;}#sk-container-id-2 div.sk-item::before, #sk-container-id-2 div.sk-parallel-item::before {content: \"\";position: absolute;border-left: 1px solid gray;box-sizing: border-box;top: 0;bottom: 0;left: 50%;z-index: -1;}#sk-container-id-2 div.sk-parallel-item {display: flex;flex-direction: column;z-index: 1;position: relative;background-color: white;}#sk-container-id-2 div.sk-parallel-item:first-child::after {align-self: flex-end;width: 50%;}#sk-container-id-2 div.sk-parallel-item:last-child::after {align-self: flex-start;width: 50%;}#sk-container-id-2 div.sk-parallel-item:only-child::after {width: 0;}#sk-container-id-2 div.sk-dashed-wrapped {border: 1px dashed gray;margin: 0 0.4em 0.5em 0.4em;box-sizing: border-box;padding-bottom: 0.4em;background-color: white;}#sk-container-id-2 div.sk-label label {font-family: monospace;font-weight: bold;display: inline-block;line-height: 1.2em;}#sk-container-id-2 div.sk-label-container {text-align: center;}#sk-container-id-2 div.sk-container {/* jupyter's `normalize.less` sets `[hidden] { display: none; }` but bootstrap.min.css set `[hidden] { display: none !important; }` so we also need the `!important` here to be able to override the default hidden behavior on the sphinx rendered scikit-learn.org. See: https://github.com/scikit-learn/scikit-learn/issues/21755 */display: inline-block !important;position: relative;}#sk-container-id-2 div.sk-text-repr-fallback {display: none;}</style><div id=\"sk-container-id-2\" class=\"sk-top-container\"><div class=\"sk-text-repr-fallback\"><pre>XGBClassifier(base_score=0.5, booster=&#x27;gbtree&#x27;, callbacks=None,\n",
       "              colsample_bylevel=1, colsample_bynode=1, colsample_bytree=1,\n",
       "              early_stopping_rounds=None, enable_categorical=False,\n",
       "              eta=0.43911010940117146, eval_metric=None, gamma=0, gpu_id=-1,\n",
       "              grow_policy=&#x27;depthwise&#x27;, importance_type=None,\n",
       "              interaction_constraints=&#x27;&#x27;, learning_rate=0.4391101, max_bin=256,\n",
       "              max_cat_to_onehot=4, max_delta_step=0, max_depth=15, max_leaves=0,\n",
       "              min_child_weight=2, missing=nan, monotone_constraints=&#x27;()&#x27;,\n",
       "              n_estimators=120, n_jobs=0, num_parallel_tree=1, predictor=&#x27;auto&#x27;,\n",
       "              random_state=0, reg_alpha=0.0747528345435633, ...)</pre><b>In a Jupyter environment, please rerun this cell to show the HTML representation or trust the notebook. <br />On GitHub, the HTML representation is unable to render, please try loading this page with nbviewer.org.</b></div><div class=\"sk-container\" hidden><div class=\"sk-item\"><div class=\"sk-estimator sk-toggleable\"><input class=\"sk-toggleable__control sk-hidden--visually\" id=\"sk-estimator-id-2\" type=\"checkbox\" checked><label for=\"sk-estimator-id-2\" class=\"sk-toggleable__label sk-toggleable__label-arrow\">XGBClassifier</label><div class=\"sk-toggleable__content\"><pre>XGBClassifier(base_score=0.5, booster=&#x27;gbtree&#x27;, callbacks=None,\n",
       "              colsample_bylevel=1, colsample_bynode=1, colsample_bytree=1,\n",
       "              early_stopping_rounds=None, enable_categorical=False,\n",
       "              eta=0.43911010940117146, eval_metric=None, gamma=0, gpu_id=-1,\n",
       "              grow_policy=&#x27;depthwise&#x27;, importance_type=None,\n",
       "              interaction_constraints=&#x27;&#x27;, learning_rate=0.4391101, max_bin=256,\n",
       "              max_cat_to_onehot=4, max_delta_step=0, max_depth=15, max_leaves=0,\n",
       "              min_child_weight=2, missing=nan, monotone_constraints=&#x27;()&#x27;,\n",
       "              n_estimators=120, n_jobs=0, num_parallel_tree=1, predictor=&#x27;auto&#x27;,\n",
       "              random_state=0, reg_alpha=0.0747528345435633, ...)</pre></div></div></div></div></div>"
      ],
      "text/plain": [
       "XGBClassifier(base_score=0.5, booster='gbtree', callbacks=None,\n",
       "              colsample_bylevel=1, colsample_bynode=1, colsample_bytree=1,\n",
       "              early_stopping_rounds=None, enable_categorical=False,\n",
       "              eta=0.43911010940117146, eval_metric=None, gamma=0, gpu_id=-1,\n",
       "              grow_policy='depthwise', importance_type=None,\n",
       "              interaction_constraints='', learning_rate=0.4391101, max_bin=256,\n",
       "              max_cat_to_onehot=4, max_delta_step=0, max_depth=15, max_leaves=0,\n",
       "              min_child_weight=2, missing=nan, monotone_constraints='()',\n",
       "              n_estimators=120, n_jobs=0, num_parallel_tree=1, predictor='auto',\n",
       "              random_state=0, reg_alpha=0.0747528345435633, ...)"
      ]
     },
     "execution_count": 48,
     "metadata": {},
     "output_type": "execute_result"
    }
   ],
   "source": [
    "XGB_res.fit(X_res, y_res)"
   ]
  },
  {
   "cell_type": "code",
   "execution_count": 49,
   "id": "5856ddc0-75a0-4077-8381-3882c9e945ac",
   "metadata": {},
   "outputs": [],
   "source": [
    "y_res_pred = XGB_res.predict(X_test)"
   ]
  },
  {
   "cell_type": "code",
   "execution_count": 50,
   "id": "722d5cdb-11a8-41eb-afe0-a258c04996f8",
   "metadata": {},
   "outputs": [
    {
     "data": {
      "text/plain": [
       "0.3103448275862069"
      ]
     },
     "execution_count": 50,
     "metadata": {},
     "output_type": "execute_result"
    }
   ],
   "source": [
    "recall_score(y_res_pred, y_test)"
   ]
  },
  {
   "cell_type": "code",
   "execution_count": 51,
   "id": "f2816927-59fe-4c19-845a-42ebec43e854",
   "metadata": {},
   "outputs": [
    {
     "data": {
      "text/plain": [
       "0.21951219512195122"
      ]
     },
     "execution_count": 51,
     "metadata": {},
     "output_type": "execute_result"
    }
   ],
   "source": [
    "precision_score(y_res_pred, y_test)"
   ]
  },
  {
   "cell_type": "code",
   "execution_count": 52,
   "id": "a24b04aa-3b9b-4acf-a5de-3400cde0e883",
   "metadata": {},
   "outputs": [
    {
     "data": {
      "text/plain": [
       "0.2571428571428571"
      ]
     },
     "execution_count": 52,
     "metadata": {},
     "output_type": "execute_result"
    }
   ],
   "source": [
    "f1_score(y_res_pred, y_test)"
   ]
  },
  {
   "cell_type": "code",
   "execution_count": 53,
   "id": "4dd4f69e-27de-4e79-a4d8-3c29b2b93747",
   "metadata": {},
   "outputs": [
    {
     "data": {
      "text/plain": [
       "0.652085994040017"
      ]
     },
     "execution_count": 53,
     "metadata": {},
     "output_type": "execute_result"
    }
   ],
   "source": [
    "roc_auc_score(y_res_pred, y_test)"
   ]
  }
 ],
 "metadata": {
  "kernelspec": {
   "display_name": "Python 3",
   "language": "python",
   "name": "python3"
  },
  "language_info": {
   "codemirror_mode": {
    "name": "ipython",
    "version": 3
   },
   "file_extension": ".py",
   "mimetype": "text/x-python",
   "name": "python",
   "nbconvert_exporter": "python",
   "pygments_lexer": "ipython3",
   "version": "3.9.12"
  }
 },
 "nbformat": 4,
 "nbformat_minor": 5
}
